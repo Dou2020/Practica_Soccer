{
 "cells": [
  {
   "cell_type": "code",
   "execution_count": 7,
   "metadata": {},
   "outputs": [],
   "source": [
    "# Cargando librerias\n",
    "import gc\n",
    "import numpy as np\n",
    "import pandas as pd"
   ]
  },
  {
   "cell_type": "code",
   "execution_count": null,
   "metadata": {},
   "outputs": [],
   "source": [
    "route = \"content/eventos_17-18/\"\n",
    "# Cargando los datos\n",
    "df = pd.read_json(route + \"teams.json\")\n",
    "df2 = pd.read_json(route + \"players.json\")\n",
    "df3 = pd.read_json(route + \"matches_England.json\")\n",
    "\n",
    "datos = {\"teams\": df,\n",
    "         \"players\": df2,\n",
    "         \"matches_England\": df3,}"
   ]
  },
  {
   "cell_type": "markdown",
   "metadata": {},
   "source": [
    "## Exploratorio"
   ]
  },
  {
   "cell_type": "code",
   "execution_count": 5,
   "metadata": {},
   "outputs": [
    {
     "name": "stdout",
     "output_type": "stream",
     "text": [
      "Informacion sobre: teams\n",
      "<class 'pandas.core.frame.DataFrame'>\n",
      "RangeIndex: 142 entries, 0 to 141\n",
      "Data columns (total 6 columns):\n",
      " #   Column        Non-Null Count  Dtype \n",
      "---  ------        --------------  ----- \n",
      " 0   city          142 non-null    object\n",
      " 1   name          142 non-null    object\n",
      " 2   wyId          142 non-null    int64 \n",
      " 3   officialName  142 non-null    object\n",
      " 4   area          142 non-null    object\n",
      " 5   type          142 non-null    object\n",
      "dtypes: int64(1), object(5)\n",
      "memory usage: 6.8+ KB\n",
      "__________________________________________________\n",
      " \n",
      "__________________________________________________\n",
      " \n",
      "Informacion sobre: players\n",
      "<class 'pandas.core.frame.DataFrame'>\n",
      "RangeIndex: 3603 entries, 0 to 3602\n",
      "Data columns (total 14 columns):\n",
      " #   Column                 Non-Null Count  Dtype \n",
      "---  ------                 --------------  ----- \n",
      " 0   passportArea           3603 non-null   object\n",
      " 1   weight                 3603 non-null   int64 \n",
      " 2   firstName              3603 non-null   object\n",
      " 3   middleName             3603 non-null   object\n",
      " 4   lastName               3603 non-null   object\n",
      " 5   currentTeamId          3512 non-null   object\n",
      " 6   birthDate              3603 non-null   object\n",
      " 7   height                 3603 non-null   int64 \n",
      " 8   role                   3603 non-null   object\n",
      " 9   birthArea              3603 non-null   object\n",
      " 10  wyId                   3603 non-null   int64 \n",
      " 11  foot                   3603 non-null   object\n",
      " 12  shortName              3603 non-null   object\n",
      " 13  currentNationalTeamId  3603 non-null   object\n",
      "dtypes: int64(3), object(11)\n",
      "memory usage: 394.2+ KB\n",
      "__________________________________________________\n",
      " \n",
      "__________________________________________________\n",
      " \n",
      "Informacion sobre: matches_England\n",
      "<class 'pandas.core.frame.DataFrame'>\n",
      "RangeIndex: 380 entries, 0 to 379\n",
      "Data columns (total 14 columns):\n",
      " #   Column         Non-Null Count  Dtype \n",
      "---  ------         --------------  ----- \n",
      " 0   status         380 non-null    object\n",
      " 1   roundId        380 non-null    int64 \n",
      " 2   gameweek       380 non-null    int64 \n",
      " 3   teamsData      380 non-null    object\n",
      " 4   seasonId       380 non-null    int64 \n",
      " 5   dateutc        380 non-null    object\n",
      " 6   winner         380 non-null    int64 \n",
      " 7   venue          380 non-null    object\n",
      " 8   wyId           380 non-null    int64 \n",
      " 9   label          380 non-null    object\n",
      " 10  date           380 non-null    object\n",
      " 11  referees       380 non-null    object\n",
      " 12  duration       380 non-null    object\n",
      " 13  competitionId  380 non-null    int64 \n",
      "dtypes: int64(6), object(8)\n",
      "memory usage: 41.7+ KB\n",
      "__________________________________________________\n",
      " \n",
      "__________________________________________________\n",
      " \n"
     ]
    }
   ],
   "source": [
    "for nombre, dato in datos.items():\n",
    "    print(\"Informacion sobre: \" + nombre)\n",
    "    dato.info()\n",
    "    print(\"_\"*50)\n",
    "    print(\" \")\n",
    "    dato.isnull().sum()\n",
    "    print(\"_\"*50)\n",
    "    print(\" \")"
   ]
  },
  {
   "cell_type": "markdown",
   "metadata": {},
   "source": [
    "### Exploracion TEAMS"
   ]
  },
  {
   "cell_type": "code",
   "execution_count": 24,
   "metadata": {},
   "outputs": [
    {
     "data": {
      "text/html": [
       "<div>\n",
       "<style scoped>\n",
       "    .dataframe tbody tr th:only-of-type {\n",
       "        vertical-align: middle;\n",
       "    }\n",
       "\n",
       "    .dataframe tbody tr th {\n",
       "        vertical-align: top;\n",
       "    }\n",
       "\n",
       "    .dataframe thead th {\n",
       "        text-align: right;\n",
       "    }\n",
       "</style>\n",
       "<table border=\"1\" class=\"dataframe\">\n",
       "  <thead>\n",
       "    <tr style=\"text-align: right;\">\n",
       "      <th></th>\n",
       "      <th>city</th>\n",
       "      <th>name</th>\n",
       "      <th>wyId</th>\n",
       "      <th>officialName</th>\n",
       "      <th>area</th>\n",
       "      <th>type</th>\n",
       "    </tr>\n",
       "  </thead>\n",
       "  <tbody>\n",
       "    <tr>\n",
       "      <th>0</th>\n",
       "      <td>Newcastle upon Tyne</td>\n",
       "      <td>Newcastle United</td>\n",
       "      <td>1613</td>\n",
       "      <td>Newcastle United FC</td>\n",
       "      <td>{'name': 'England', 'id': '0', 'alpha3code': '...</td>\n",
       "      <td>club</td>\n",
       "    </tr>\n",
       "    <tr>\n",
       "      <th>1</th>\n",
       "      <td>Vigo</td>\n",
       "      <td>Celta de Vigo</td>\n",
       "      <td>692</td>\n",
       "      <td>Real Club Celta de Vigo</td>\n",
       "      <td>{'name': 'Spain', 'id': '724', 'alpha3code': '...</td>\n",
       "      <td>club</td>\n",
       "    </tr>\n",
       "    <tr>\n",
       "      <th>2</th>\n",
       "      <td>Barcelona</td>\n",
       "      <td>Espanyol</td>\n",
       "      <td>691</td>\n",
       "      <td>Reial Club Deportiu Espanyol</td>\n",
       "      <td>{'name': 'Spain', 'id': '724', 'alpha3code': '...</td>\n",
       "      <td>club</td>\n",
       "    </tr>\n",
       "    <tr>\n",
       "      <th>3</th>\n",
       "      <td>Vitoria-Gasteiz</td>\n",
       "      <td>Deportivo Alav\\u00e9s</td>\n",
       "      <td>696</td>\n",
       "      <td>Deportivo Alav\\u00e9s</td>\n",
       "      <td>{'name': 'Spain', 'id': '724', 'alpha3code': '...</td>\n",
       "      <td>club</td>\n",
       "    </tr>\n",
       "    <tr>\n",
       "      <th>4</th>\n",
       "      <td>Valencia</td>\n",
       "      <td>Levante</td>\n",
       "      <td>695</td>\n",
       "      <td>Levante UD</td>\n",
       "      <td>{'name': 'Spain', 'id': '724', 'alpha3code': '...</td>\n",
       "      <td>club</td>\n",
       "    </tr>\n",
       "  </tbody>\n",
       "</table>\n",
       "</div>"
      ],
      "text/plain": [
       "                  city                   name  wyId  \\\n",
       "0  Newcastle upon Tyne       Newcastle United  1613   \n",
       "1                 Vigo          Celta de Vigo   692   \n",
       "2            Barcelona               Espanyol   691   \n",
       "3      Vitoria-Gasteiz  Deportivo Alav\\u00e9s   696   \n",
       "4             Valencia                Levante   695   \n",
       "\n",
       "                   officialName  \\\n",
       "0           Newcastle United FC   \n",
       "1       Real Club Celta de Vigo   \n",
       "2  Reial Club Deportiu Espanyol   \n",
       "3         Deportivo Alav\\u00e9s   \n",
       "4                    Levante UD   \n",
       "\n",
       "                                                area  type  \n",
       "0  {'name': 'England', 'id': '0', 'alpha3code': '...  club  \n",
       "1  {'name': 'Spain', 'id': '724', 'alpha3code': '...  club  \n",
       "2  {'name': 'Spain', 'id': '724', 'alpha3code': '...  club  \n",
       "3  {'name': 'Spain', 'id': '724', 'alpha3code': '...  club  \n",
       "4  {'name': 'Spain', 'id': '724', 'alpha3code': '...  club  "
      ]
     },
     "execution_count": 24,
     "metadata": {},
     "output_type": "execute_result"
    }
   ],
   "source": [
    "df.head()"
   ]
  },
  {
   "cell_type": "code",
   "execution_count": null,
   "metadata": {},
   "outputs": [
    {
     "data": {
      "text/html": [
       "<div>\n",
       "<style scoped>\n",
       "    .dataframe tbody tr th:only-of-type {\n",
       "        vertical-align: middle;\n",
       "    }\n",
       "\n",
       "    .dataframe tbody tr th {\n",
       "        vertical-align: top;\n",
       "    }\n",
       "\n",
       "    .dataframe thead th {\n",
       "        text-align: right;\n",
       "    }\n",
       "</style>\n",
       "<table border=\"1\" class=\"dataframe\">\n",
       "  <thead>\n",
       "    <tr style=\"text-align: right;\">\n",
       "      <th></th>\n",
       "      <th>name</th>\n",
       "      <th>id</th>\n",
       "      <th>alpha3code</th>\n",
       "      <th>alpha2code</th>\n",
       "    </tr>\n",
       "  </thead>\n",
       "  <tbody>\n",
       "    <tr>\n",
       "      <th>0</th>\n",
       "      <td>England</td>\n",
       "      <td>0</td>\n",
       "      <td>XEN</td>\n",
       "      <td></td>\n",
       "    </tr>\n",
       "    <tr>\n",
       "      <th>1</th>\n",
       "      <td>Spain</td>\n",
       "      <td>724</td>\n",
       "      <td>ESP</td>\n",
       "      <td>ES</td>\n",
       "    </tr>\n",
       "    <tr>\n",
       "      <th>2</th>\n",
       "      <td>Spain</td>\n",
       "      <td>724</td>\n",
       "      <td>ESP</td>\n",
       "      <td>ES</td>\n",
       "    </tr>\n",
       "    <tr>\n",
       "      <th>3</th>\n",
       "      <td>Spain</td>\n",
       "      <td>724</td>\n",
       "      <td>ESP</td>\n",
       "      <td>ES</td>\n",
       "    </tr>\n",
       "    <tr>\n",
       "      <th>4</th>\n",
       "      <td>Spain</td>\n",
       "      <td>724</td>\n",
       "      <td>ESP</td>\n",
       "      <td>ES</td>\n",
       "    </tr>\n",
       "  </tbody>\n",
       "</table>\n",
       "</div>"
      ],
      "text/plain": [
       "      name   id alpha3code alpha2code\n",
       "0  England    0        XEN           \n",
       "1    Spain  724        ESP         ES\n",
       "2    Spain  724        ESP         ES\n",
       "3    Spain  724        ESP         ES\n",
       "4    Spain  724        ESP         ES"
      ]
     },
     "execution_count": 41,
     "metadata": {},
     "output_type": "execute_result"
    }
   ],
   "source": [
    "pd.json_normalize(df[\"area\"]).head()"
   ]
  },
  {
   "cell_type": "code",
   "execution_count": null,
   "metadata": {},
   "outputs": [
    {
     "data": {
      "text/plain": [
       "array(['England', 'Spain', 'France', 'Germany', 'Italy', 'Wales',\n",
       "       'Monaco', 'Korea Republic', 'Hungary', 'Turkey', 'Russia',\n",
       "       'Sweden', 'Tunisia', 'Brazil', 'Albania', 'Romania', 'Ukraine',\n",
       "       'Morocco', 'Slovakia', 'Colombia', 'Panama', 'Australia',\n",
       "       'Argentina', 'Northern Ireland', 'Portugal', 'Belgium', 'Denmark',\n",
       "       'Uruguay', 'Costa Rica', 'Egypt', 'Japan', 'Iran', 'Austria',\n",
       "       'Iceland', 'Croatia', 'Mexico', 'Ireland Republic',\n",
       "       'Czech Republic', 'Senegal', 'Peru', 'Saudi Arabia', 'Serbia',\n",
       "       'Switzerland', 'Poland', 'Nigeria'], dtype=object)"
      ]
     },
     "execution_count": 40,
     "metadata": {},
     "output_type": "execute_result"
    }
   ],
   "source": [
    "# Normalizando el campo area\n",
    "df[\"area\"].apply(lambda x: x.get(\"name\", \"no encontrado\")).unique()\n"
   ]
  }
 ],
 "metadata": {
  "kernelspec": {
   "display_name": ".venv",
   "language": "python",
   "name": "python3"
  },
  "language_info": {
   "codemirror_mode": {
    "name": "ipython",
    "version": 3
   },
   "file_extension": ".py",
   "mimetype": "text/x-python",
   "name": "python",
   "nbconvert_exporter": "python",
   "pygments_lexer": "ipython3",
   "version": "3.12.3"
  }
 },
 "nbformat": 4,
 "nbformat_minor": 2
}
